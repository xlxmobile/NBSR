{
 "cells": [
  {
   "cell_type": "markdown",
   "metadata": {},
   "source": [
    "# Constructing a Cancer-Specific Network\n",
    "\n",
    "__Introduction:__  \n",
    "This notebook uses [__PCNet__](http://www.ndexbio.org/#/network/f93f402c-86d4-11e7-a10d-0ac135e8bacf) from (Huang, Carlin, et al. in press) and various collections of cancer-related genes (see below) to construct a cancer-specific subnetwork that can be used in the pyNBS algorithm to stratify patients with sparse mutational profiles. This method also uses a module wrapping the [MyGene.info](http://mygene.info/) Python API (developed by Huang et al.) to normalize all gene names to HUGO symbols. \n",
    "\n",
    "__Steps to construct Cancer Subnetwork:__\n",
    "1. Load network\n",
    "2. Compile all cancer genes from cancer-related gene sets into a single list\n",
    "3. Extract only edges from network connecting cancer genes together, remove all other nodes and edges from the network\n",
    "4. Write the filtered network to file as an edge list.\n",
    "\n",
    "__The following is a list of the four cancer-related gene sets used to filter PCNet:__  \n",
    "\n",
    "|File Name|Cancer Gene Set Description|Citation|\n",
    "|:---|:---|:---|\n",
    "|hallmarks.txt|Genes from hallmark cancer pathways|Hanahan D and Weinberg RA (2011) Hallmarks of Cancer: The Next Generation. Cell. 144(5), 646-674.|\n",
    "|vogelstein.txt|List of tumor suppressor and oncogenes from Vogelstein et al.|Vogelstein B, et al. (2013) Cancer genome landscapes. Science. 339(6127), 1546-1558.|\n",
    "|sanger_CL_genes.txt|Recurrently mutated cancer genes discovered from cancer cell lines (Sanger UK)|Iorio F, et al. (2016) A Landscape of Pharmacogenomic Interactions in Cancer. Cell. 166(3), 740-754.|\n",
    "|cgc.txt|Genes from the Cancer Gene Census (COSMIC v81)|Forbes SA, et al. (2017) COSMIC: somatic cancer genetics at high-resolution. Nucleic Acids Res. 45(D1), D777-D783.|\n"
   ]
  },
  {
   "cell_type": "code",
   "execution_count": 1,
   "metadata": {
    "collapsed": false
   },
   "outputs": [],
   "source": [
    "import pandas as pd\n",
    "import networkx as nx\n",
    "from pyNBS import gene_conversion_tools as gct"
   ]
  },
  {
   "cell_type": "markdown",
   "metadata": {},
   "source": [
    "## Load Network"
   ]
  },
  {
   "cell_type": "code",
   "execution_count": 2,
   "metadata": {
    "collapsed": false
   },
   "outputs": [],
   "source": [
    "network_file = './CancerSubnetwork_Data/PCNet.txt'\n",
    "network = nx.read_edgelist(network_file, delimiter='\\t', data=True)"
   ]
  },
  {
   "cell_type": "markdown",
   "metadata": {},
   "source": [
    "## Get all cancer-related genes\n"
   ]
  },
  {
   "cell_type": "markdown",
   "metadata": {},
   "source": [
    "#### Get genes from all cancer hallmark pathways and convert them from Entrez to HUGO Symbols (Hanahan, Weinberg 2011)"
   ]
  },
  {
   "cell_type": "code",
   "execution_count": 3,
   "metadata": {
    "collapsed": false
   },
   "outputs": [],
   "source": [
    "# Load pathway gene sets\n",
    "f = open('./Supplementary_Notebook_Data/CancerSubnetwork_Data/hallmarks.txt')\n",
    "lines = f.read().splitlines()\n",
    "hallmark_genesets = {}\n",
    "for line in lines:\n",
    "    if '\\t' in line:\n",
    "        hallmark_genesets[line.split('\\t')[0].split('|')[1]] = line.split('\\t')[2:]"
   ]
  },
  {
   "cell_type": "code",
   "execution_count": 4,
   "metadata": {
    "collapsed": false
   },
   "outputs": [],
   "source": [
    "# Convert cancer-hallmark gene set genes to HUGO with MyGene.info\n",
    "all_hallmark_genes_entrez = []\n",
    "for hallmark in hallmark_genesets:\n",
    "    all_hallmark_genes_entrez = all_hallmark_genes_entrez + hallmark_genesets[hallmark]\n",
    "all_hallmark_genes_entrez = list(set(all_hallmark_genes_entrez))"
   ]
  },
  {
   "cell_type": "code",
   "execution_count": 5,
   "metadata": {
    "collapsed": false,
    "scrolled": true
   },
   "outputs": [
    {
     "name": "stdout",
     "output_type": "stream",
     "text": [
      "1711 Valid Query Genes\n",
      "0 Invalid Query Genes\n",
      "1711 Matched query results\n",
      "Batch query complete: 3.66 seconds\n"
     ]
    }
   ],
   "source": [
    "# Get gene conversion query string\n",
    "query_string, valid_genes, invalid_genes = gct.query_constructor(all_hallmark_genes_entrez)\n",
    "# Set scopes (gene naming systems to search)\n",
    "scopes = \"entrezgene, retired\"\n",
    "# Set fields (systems from which to return gene names from)\n",
    "fields = \"symbol, entrezgene\"\n",
    "# Query MyGene.Info\n",
    "match_list = gct.query_batch(query_string, scopes=scopes, fields=fields)"
   ]
  },
  {
   "cell_type": "code",
   "execution_count": 6,
   "metadata": {
    "collapsed": false
   },
   "outputs": [
    {
     "name": "stdout",
     "output_type": "stream",
     "text": [
      "Queries with partial matching results found: 7\n",
      "{u'query': u'731751', u'notfound': True}\n",
      "{u'query': u'652671', u'notfound': True}\n",
      "{u'query': u'651610', u'notfound': True}\n",
      "{u'query': u'652799', u'notfound': True}\n",
      "{u'query': u'646821', u'notfound': True}\n",
      "{u'query': u'652346', u'notfound': True}\n",
      "{u'query': u'650621', u'notfound': True}\n",
      "\n",
      "0 Queries with mutliple matches found\n",
      "\n",
      "Query mapping table/dictionary construction complete: 0.89 seconds\n"
     ]
    }
   ],
   "source": [
    "# Get gene conversion maps\n",
    "match_table_trim, query_to_symbol, query_to_entrez = gct.construct_query_map_table(match_list, valid_genes, display_unmatched_queries=True)\n",
    "# Collapse cancer-hallmark gene set genes as HUGO Symbols only\n",
    "all_hallmark_genes_symbol = [str(query_to_symbol[gene]) for gene in all_hallmark_genes_entrez]"
   ]
  },
  {
   "cell_type": "markdown",
   "metadata": {},
   "source": [
    "#### Load genes determined by Vogelstein as tumor suppressors or oncogenes (Vogelstein et al 2013)"
   ]
  },
  {
   "cell_type": "code",
   "execution_count": 7,
   "metadata": {
    "collapsed": true
   },
   "outputs": [],
   "source": [
    "# Vogelstein cancer genes list\n",
    "f = open('./Supplementary_Notebook_Data/CancerSubnetwork_Data/vogelstein.txt')\n",
    "lines = f.read().splitlines()\n",
    "Vogelstein_genes = [line.split('\\t')[0] for line in lines]"
   ]
  },
  {
   "cell_type": "markdown",
   "metadata": {},
   "source": [
    "#### Load genes determined as recurrently mutated across 1,001 cancer cell lines (Iorio et al 2016)"
   ]
  },
  {
   "cell_type": "code",
   "execution_count": 8,
   "metadata": {
    "collapsed": false
   },
   "outputs": [],
   "source": [
    "f = open('./Supplementary_Notebook_Data/CancerSubnetwork_Data/sanger_CL_genes.txt')\n",
    "Sanger_genes = f.read().splitlines()"
   ]
  },
  {
   "cell_type": "markdown",
   "metadata": {},
   "source": [
    "#### Load genes from the Cancer Gene Census from COSMIC v81 (Forbes et al 2017)"
   ]
  },
  {
   "cell_type": "code",
   "execution_count": 9,
   "metadata": {
    "collapsed": false
   },
   "outputs": [],
   "source": [
    "COSMIC_table = pd.read_csv('./Supplementary_Notebook_Data/CancerSubnetwork_Data/cgc_v81.txt')\n",
    "COSMIC_genes = list(COSMIC_table['Gene Symbol'])"
   ]
  },
  {
   "cell_type": "markdown",
   "metadata": {},
   "source": [
    "#### Combine all cancer gene lists together"
   ]
  },
  {
   "cell_type": "code",
   "execution_count": 17,
   "metadata": {
    "collapsed": false
   },
   "outputs": [
    {
     "name": "stdout",
     "output_type": "stream",
     "text": [
      "Number of HUGO Cancer Genes: 2322\n"
     ]
    }
   ],
   "source": [
    "cancer_genes = list(set(all_hallmark_genes_symbol+Vogelstein_genes+Sanger_genes+COSMIC_genes))\n",
    "print \"Number of HUGO Cancer Genes:\", len(cancer_genes)"
   ]
  },
  {
   "cell_type": "markdown",
   "metadata": {},
   "source": [
    "### Generate Cancer Gene Network\n",
    "Note: The resulting network may not be **exactly** the same as the Cancer Subnetwork found in ```'~/Examples/Example_Data/Network_Files/CancerSubnetwork.txt'``` due to the fact that [MyGene.Info](http://mygene.info/) may be updating gene name mappings over time."
   ]
  },
  {
   "cell_type": "code",
   "execution_count": 13,
   "metadata": {
    "collapsed": false
   },
   "outputs": [],
   "source": [
    "# Filter PCNet to only contain genes from the combined cancer gene list and the edges between those genes\n",
    "cancer_subnetwork = network.subgraph(cancer_genes)"
   ]
  },
  {
   "cell_type": "code",
   "execution_count": 21,
   "metadata": {
    "collapsed": false
   },
   "outputs": [
    {
     "name": "stdout",
     "output_type": "stream",
     "text": [
      "Number of connected genes in Cancer Subnetwork: 2290\n",
      "Number of interactions in Cancer Subnetwork: 204373\n"
     ]
    }
   ],
   "source": [
    "gene_degree = pd.Series(cancer_subnetwork.degree(), name='degree')\n",
    "print \"Number of connected genes in Cancer Subnetwork:\", len(cancer_subnetwork.nodes())-len(gene_degree[gene_degree==0])\n",
    "print \"Number of interactions in Cancer Subnetwork:\", len(cancer_subnetwork.edges())"
   ]
  },
  {
   "cell_type": "code",
   "execution_count": 22,
   "metadata": {
    "collapsed": false
   },
   "outputs": [
    {
     "name": "stdout",
     "output_type": "stream",
     "text": [
      "Edge list saved: 0.35 seconds\n"
     ]
    }
   ],
   "source": [
    "# Write the filtered cancer subnetwork to file\n",
    "# Note: Genes with no edges connecting them to any other gene will be removed during this step\n",
    "gct.write_edgelist(cancer_subnetwork.edges(), './Supplementary_Notebook_Results/CancerSubnetwork.txt', binary=True)"
   ]
  },
  {
   "cell_type": "code",
   "execution_count": null,
   "metadata": {
    "collapsed": true
   },
   "outputs": [],
   "source": []
  }
 ],
 "metadata": {
  "kernelspec": {
   "display_name": "Python 2",
   "language": "python",
   "name": "python2"
  },
  "language_info": {
   "codemirror_mode": {
    "name": "ipython",
    "version": 2
   },
   "file_extension": ".py",
   "mimetype": "text/x-python",
   "name": "python",
   "nbconvert_exporter": "python",
   "pygments_lexer": "ipython2",
   "version": "2.7.11"
  }
 },
 "nbformat": 4,
 "nbformat_minor": 0
}
